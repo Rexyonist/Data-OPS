{
 "cells": [
  {
   "cell_type": "markdown",
   "metadata": {},
   "source": [
    "# NAIVE BAYES"
   ]
  },
  {
   "cell_type": "code",
   "execution_count": 1,
   "metadata": {},
   "outputs": [],
   "source": [
    "TP_NB = 55 + 191 + 314\n",
    "FN_NB = 28 + 38 + 61\n",
    "FP_NB = 23 + 50 + 54\n",
    "TN_NB = 581 + 408 + 258"
   ]
  },
  {
   "cell_type": "code",
   "execution_count": 7,
   "metadata": {},
   "outputs": [
    {
     "name": "stdout",
     "output_type": "stream",
     "text": [
      "87.68%, 81.51%, 81.51%, 81.51%\n"
     ]
    }
   ],
   "source": [
    "accuracy_nb = ((TP_NB + TN_NB)/(TP_NB + FN_NB + FP_NB + TN_NB))\n",
    "precision_nb = (TP_NB/(TP_NB + FP_NB))\n",
    "recall_nb = (TP_NB/(TP_NB + FN_NB))\n",
    "f1_score_nb = ((2 * precision_nb * recall_nb)/(precision_nb + recall_nb))\n",
    "print(f\"{accuracy_nb:.2%}, {precision_nb:.2%}, {recall_nb:.2%}, {f1_score_nb:.2%}\")"
   ]
  },
  {
   "cell_type": "markdown",
   "metadata": {},
   "source": [
    "# SUPPORT VECTOR MACHINE"
   ]
  },
  {
   "cell_type": "code",
   "execution_count": 8,
   "metadata": {},
   "outputs": [],
   "source": [
    "TP_SVM = 56 + 197 + 340\n",
    "FN_SVM = 27 + 32 + 35\n",
    "FP_SVM = 11 + 36 + 47\n",
    "TN_SVM = 593 + 422 + 265"
   ]
  },
  {
   "cell_type": "code",
   "execution_count": 10,
   "metadata": {},
   "outputs": [
    {
     "name": "stdout",
     "output_type": "stream",
     "text": [
      "90.88%, 86.32%, 86.32%, 86.32%\n"
     ]
    }
   ],
   "source": [
    "accuracy_svm = ((TP_SVM + TN_SVM)/(TP_SVM + FN_SVM + FP_SVM + TN_SVM))\n",
    "precision_svm = (TP_SVM/(TP_SVM + FP_SVM))\n",
    "recall_svm = (TP_SVM/(TP_SVM + FN_SVM))\n",
    "f1_score_svm = ((2 * precision_svm * recall_svm)/(precision_svm + recall_svm))\n",
    "print(f\"{accuracy_svm:.2%}, {precision_svm:.2%}, {recall_svm:.2%}, {f1_score_svm:.2%}\")"
   ]
  }
 ],
 "metadata": {
  "kernelspec": {
   "display_name": "Python 3",
   "language": "python",
   "name": "python3"
  },
  "language_info": {
   "codemirror_mode": {
    "name": "ipython",
    "version": 3
   },
   "file_extension": ".py",
   "mimetype": "text/x-python",
   "name": "python",
   "nbconvert_exporter": "python",
   "pygments_lexer": "ipython3",
   "version": "3.11.9"
  }
 },
 "nbformat": 4,
 "nbformat_minor": 2
}
