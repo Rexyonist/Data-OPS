{
 "cells": [
  {
   "cell_type": "code",
   "execution_count": 11,
   "metadata": {},
   "outputs": [
    {
     "data": {
      "text/html": [
       "<div>\n",
       "<style scoped>\n",
       "    .dataframe tbody tr th:only-of-type {\n",
       "        vertical-align: middle;\n",
       "    }\n",
       "\n",
       "    .dataframe tbody tr th {\n",
       "        vertical-align: top;\n",
       "    }\n",
       "\n",
       "    .dataframe thead th {\n",
       "        text-align: right;\n",
       "    }\n",
       "</style>\n",
       "<table border=\"1\" class=\"dataframe\">\n",
       "  <thead>\n",
       "    <tr style=\"text-align: right;\">\n",
       "      <th></th>\n",
       "      <th>full_text</th>\n",
       "      <th>created_at</th>\n",
       "      <th>username</th>\n",
       "    </tr>\n",
       "  </thead>\n",
       "  <tbody>\n",
       "    <tr>\n",
       "      <th>0</th>\n",
       "      <td>@tanyarlfes WKWKWKWK MIMPI APA LU PADA sekaran...</td>\n",
       "      <td>Wed May 15 23:54:40 +0000 2024</td>\n",
       "      <td>aetherienll</td>\n",
       "    </tr>\n",
       "    <tr>\n",
       "      <th>1</th>\n",
       "      <td>Terjebak Macet selama Tiga Jam di Kawasan IKN ...</td>\n",
       "      <td>Wed May 15 23:53:01 +0000 2024</td>\n",
       "      <td>kompasiana</td>\n",
       "    </tr>\n",
       "    <tr>\n",
       "      <th>2</th>\n",
       "      <td>Jadi presidennya mau. Giliran disuruh pindah k...</td>\n",
       "      <td>Wed May 15 23:52:43 +0000 2024</td>\n",
       "      <td>lokastiti</td>\n",
       "    </tr>\n",
       "    <tr>\n",
       "      <th>3</th>\n",
       "      <td>Kebutuhan primer harus di utamakan bahkan di u...</td>\n",
       "      <td>Wed May 15 23:52:30 +0000 2024</td>\n",
       "      <td>Kanoysim</td>\n",
       "    </tr>\n",
       "    <tr>\n",
       "      <th>4</th>\n",
       "      <td>@Andria75777 Mampus kelen...wkwkwkkw . Makan t...</td>\n",
       "      <td>Wed May 15 23:48:58 +0000 2024</td>\n",
       "      <td>PartaiPonsel</td>\n",
       "    </tr>\n",
       "    <tr>\n",
       "      <th>5</th>\n",
       "      <td>@dekade_08 semoga saya sih paling khawatir ttg...</td>\n",
       "      <td>Wed May 15 23:48:55 +0000 2024</td>\n",
       "      <td>Judakusumah1</td>\n",
       "    </tr>\n",
       "    <tr>\n",
       "      <th>6</th>\n",
       "      <td>Tkt pendidikan berhubungan erat dg kesejahtera...</td>\n",
       "      <td>Wed May 15 23:48:27 +0000 2024</td>\n",
       "      <td>lampu_patromaks</td>\n",
       "    </tr>\n",
       "    <tr>\n",
       "      <th>7</th>\n",
       "      <td>Pemerintah Siapkan 10 Strategi Pengembangan De...</td>\n",
       "      <td>Wed May 15 23:47:17 +0000 2024</td>\n",
       "      <td>FudJar57505</td>\n",
       "    </tr>\n",
       "    <tr>\n",
       "      <th>8</th>\n",
       "      <td>@HechiAnget @rootswe2dluv @ub_mfs Jadi wajar s...</td>\n",
       "      <td>Wed May 15 23:47:06 +0000 2024</td>\n",
       "      <td>MuqaffiAbd</td>\n",
       "    </tr>\n",
       "    <tr>\n",
       "      <th>9</th>\n",
       "      <td>Mengupas Kecanggihan Bangunan Cerdas Istana Ne...</td>\n",
       "      <td>Wed May 15 23:46:12 +0000 2024</td>\n",
       "      <td>SbywibowoMega</td>\n",
       "    </tr>\n",
       "  </tbody>\n",
       "</table>\n",
       "</div>"
      ],
      "text/plain": [
       "                                           full_text  \\\n",
       "0  @tanyarlfes WKWKWKWK MIMPI APA LU PADA sekaran...   \n",
       "1  Terjebak Macet selama Tiga Jam di Kawasan IKN ...   \n",
       "2  Jadi presidennya mau. Giliran disuruh pindah k...   \n",
       "3  Kebutuhan primer harus di utamakan bahkan di u...   \n",
       "4  @Andria75777 Mampus kelen...wkwkwkkw . Makan t...   \n",
       "5  @dekade_08 semoga saya sih paling khawatir ttg...   \n",
       "6  Tkt pendidikan berhubungan erat dg kesejahtera...   \n",
       "7  Pemerintah Siapkan 10 Strategi Pengembangan De...   \n",
       "8  @HechiAnget @rootswe2dluv @ub_mfs Jadi wajar s...   \n",
       "9  Mengupas Kecanggihan Bangunan Cerdas Istana Ne...   \n",
       "\n",
       "                       created_at         username  \n",
       "0  Wed May 15 23:54:40 +0000 2024      aetherienll  \n",
       "1  Wed May 15 23:53:01 +0000 2024       kompasiana  \n",
       "2  Wed May 15 23:52:43 +0000 2024        lokastiti  \n",
       "3  Wed May 15 23:52:30 +0000 2024         Kanoysim  \n",
       "4  Wed May 15 23:48:58 +0000 2024     PartaiPonsel  \n",
       "5  Wed May 15 23:48:55 +0000 2024     Judakusumah1  \n",
       "6  Wed May 15 23:48:27 +0000 2024  lampu_patromaks  \n",
       "7  Wed May 15 23:47:17 +0000 2024      FudJar57505  \n",
       "8  Wed May 15 23:47:06 +0000 2024       MuqaffiAbd  \n",
       "9  Wed May 15 23:46:12 +0000 2024    SbywibowoMega  "
      ]
     },
     "execution_count": 11,
     "metadata": {},
     "output_type": "execute_result"
    }
   ],
   "source": [
    "import pandas as pd\n",
    "data = pd.read_csv('Final-IKN.csv')\n",
    "data = data.drop_duplicates(subset=['full_text', 'username'])\n",
    "data = data[['full_text', 'created_at', 'username']]\n",
    "data.head(10)"
   ]
  },
  {
   "cell_type": "code",
   "execution_count": 12,
   "metadata": {},
   "outputs": [
    {
     "data": {
      "text/plain": [
       "(1757, 3)"
      ]
     },
     "execution_count": 12,
     "metadata": {},
     "output_type": "execute_result"
    }
   ],
   "source": [
    "data.shape"
   ]
  }
 ],
 "metadata": {
  "kernelspec": {
   "display_name": "Python 3",
   "language": "python",
   "name": "python3"
  },
  "language_info": {
   "codemirror_mode": {
    "name": "ipython",
    "version": 3
   },
   "file_extension": ".py",
   "mimetype": "text/x-python",
   "name": "python",
   "nbconvert_exporter": "python",
   "pygments_lexer": "ipython3",
   "version": "3.11.9"
  }
 },
 "nbformat": 4,
 "nbformat_minor": 2
}
