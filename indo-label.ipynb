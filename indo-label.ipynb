{
 "cells": [
  {
   "cell_type": "markdown",
   "metadata": {},
   "source": [
    "# LOADS LEXICON POSTIVE & NEGATIVE"
   ]
  },
  {
   "cell_type": "code",
   "execution_count": 8,
   "metadata": {},
   "outputs": [],
   "source": [
    "import csv\n",
    "import pandas as pd\n",
    "\n",
    "preprocessed_data = pd.read_csv('preprocessed_data6.csv')\n",
    "\n",
    "lexicon_positive = dict()\n",
    "with open('combined_words/positive.csv', 'r') as csvfile:\n",
    "  reader = csv.reader(csvfile, delimiter=',')\n",
    "  for row in reader:\n",
    "    lexicon_positive[row[0]] = int(row[1])\n",
    "  \n",
    "lexicon_negative = dict()\n",
    "with open('combined_words/negative.csv', 'r') as csvfile:\n",
    "  reader = csv.reader(csvfile, delimiter=',')\n",
    "  for row in reader:\n",
    "    lexicon_negative[row[0]] = int(row[1])\n",
    "\n",
    "def sentiment_analysis_indo(text):\n",
    "  score = 0\n",
    "  for word in text:\n",
    "    if (word in lexicon_positive):\n",
    "      score = score + lexicon_positive[word]\n",
    "  for word in text:\n",
    "    if (word in lexicon_negative):\n",
    "      score = score + lexicon_negative[word]\n",
    "  polarity = ''\n",
    "  if (score > 0):\n",
    "    polarity = 'Positive'\n",
    "  elif (score < 0):\n",
    "    polarity = 'Negative'\n",
    "  else:\n",
    "    polarity = 'Neutral'\n",
    "  return score, polarity"
   ]
  },
  {
   "cell_type": "code",
   "execution_count": 5,
   "metadata": {},
   "outputs": [
    {
     "ename": "SyntaxError",
     "evalue": "invalid syntax (<string>, line 2)",
     "output_type": "error",
     "traceback": [
      "Traceback \u001b[1;36m(most recent call last)\u001b[0m:\n",
      "\u001b[0m  File \u001b[0;32m~\\AppData\\Local\\Packages\\PythonSoftwareFoundation.Python.3.11_qbz5n2kfra8p0\\LocalCache\\local-packages\\Python311\\site-packages\\IPython\\core\\interactiveshell.py:3577\u001b[0m in \u001b[0;35mrun_code\u001b[0m\n    exec(code_obj, self.user_global_ns, self.user_ns)\u001b[0m\n",
      "\u001b[1;36m  Cell \u001b[1;32mIn[5], line 9\u001b[1;36m\n\u001b[1;33m    root_words = eval(file.read())\u001b[1;36m\n",
      "\u001b[1;36m  File \u001b[1;32m<string>:2\u001b[1;36m\u001b[0m\n\u001b[1;33m    abdikasi\u001b[0m\n\u001b[1;37m    ^\u001b[0m\n\u001b[1;31mSyntaxError\u001b[0m\u001b[1;31m:\u001b[0m invalid syntax\n"
     ]
    }
   ],
   "source": [
    "import pandas as pd\n",
    "import re\n",
    "\n",
    "# Load the preprocessed data\n",
    "preprocessed_data = pd.read_csv('output/preprocessed_data8.csv')\n",
    "\n",
    "# Load the root words, slang words, and stop words\n",
    "with open('combined_words/combined_root_words.txt', 'r') as file:\n",
    "    root_words = eval(file.read())\n",
    "\n",
    "with open('combined_words/combined_slang_words.txt', 'r') as file:\n",
    "    slang_words = eval(file.read())\n",
    "\n",
    "stop_words = pd.read_csv('combined_words/combined_stop_words.txt', header=None)[0].tolist()\n",
    "\n",
    "# Function to normalize text\n",
    "def normalize_text(text):\n",
    "    # Replace slang words\n",
    "    for slang, replacement in slang_words.items():\n",
    "        text = re.sub(r'\\b{}\\b'.format(slang), replacement, text)\n",
    "    # Replace root words\n",
    "    for word, root in root_words.items():\n",
    "        text = re.sub(r'\\b{}\\b'.format(word), root, text)\n",
    "    # Remove stopwords\n",
    "    tokens = text.split()\n",
    "    tokens = [word for word in tokens if word not in stop_words]\n",
    "    return ' '.join(tokens)\n",
    "\n",
    "# Apply normalization to the 'cleaned' column\n",
    "preprocessed_data['normalized'] = preprocessed_data['lemmatized'].apply(normalize_text)\n",
    "\n",
    "# Save the normalized data\n",
    "output_path_normalized = 'combined_words/normalized.csv'\n",
    "preprocessed_data.to_csv(output_path_normalized, index=False)\n",
    "\n",
    "print(preprocessed_data.head())\n"
   ]
  },
  {
   "cell_type": "code",
   "execution_count": 4,
   "metadata": {},
   "outputs": [
    {
     "name": "stdout",
     "output_type": "stream",
     "text": [
      "Jumlah data positif: 675\n",
      "Jumlah data negatif: 1169\n",
      "Jumlah data netral: 1591\n"
     ]
    }
   ],
   "source": [
    "sentiment_counts = preprocessed_data['Sentiment_Label'].value_counts()\n",
    "print(\"Jumlah data positif:\", sentiment_counts.get('Positive', 0))\n",
    "print(\"Jumlah data negatif:\", sentiment_counts.get('Negative', 0))\n",
    "print(\"Jumlah data netral:\", sentiment_counts.get('Neutral', 0))"
   ]
  }
 ],
 "metadata": {
  "kernelspec": {
   "display_name": "Python 3",
   "language": "python",
   "name": "python3"
  },
  "language_info": {
   "codemirror_mode": {
    "name": "ipython",
    "version": 3
   },
   "file_extension": ".py",
   "mimetype": "text/x-python",
   "name": "python",
   "nbconvert_exporter": "python",
   "pygments_lexer": "ipython3",
   "version": "3.11.9"
  }
 },
 "nbformat": 4,
 "nbformat_minor": 2
}
